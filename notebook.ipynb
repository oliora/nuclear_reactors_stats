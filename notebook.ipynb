{
 "cells": [
  {
   "cell_type": "code",
   "execution_count": null,
   "metadata": {},
   "outputs": [],
   "source": [
    "import json\n",
    "import pandas as pd\n",
    "import matplotlib.pyplot as plt\n",
    "\n",
    "import seaborn\n",
    "seaborn.set_theme()\n",
    "\n",
    "pd.set_option('future.no_silent_downcasting', True)\n",
    "\n",
    "orig_input_df = pd.read_csv('./reactors.csv').convert_dtypes()"
   ]
  },
  {
   "cell_type": "code",
   "execution_count": null,
   "metadata": {},
   "outputs": [],
   "source": [
    "with open('regions-m49.json') as f:\n",
    "    regions = json.load(f)['regions']\n",
    "    regions = {v: n for n, v in regions.items()}\n",
    "\n",
    "with open('countries-m49.json') as f:\n",
    "    countries = json.load(f)['countries']\n",
    "    country_subregions = {c['name']: regions[c['subRegion']] for c in countries}\n",
    "    country_regions = {c['name']: regions[c['region']] for c in countries}"
   ]
  },
  {
   "cell_type": "code",
   "execution_count": null,
   "metadata": {},
   "outputs": [],
   "source": [
    "country_mapping = {\n",
    "    'Czech Republic': 'Czechia',\n",
    "    'Iran': 'Iran (Islamic Republic of)',\n",
    "    'Russia': 'Russian Federation',\n",
    "    'South Korea': 'Republic of Korea',\n",
    "    'Taiwan': 'China',  # UN is an abomination\n",
    "    'Turkey': 'T\\u00fcrkiye',\n",
    "    'United Kingdom': 'United Kingdom of Great Britain and Northern Ireland',\n",
    "    'United States': 'United States of America',\n",
    "}\n",
    "\n",
    "max_year = 2023\n",
    "years = range(1954, max_year + 1)\n",
    "\n",
    "copyright_text = 'CC BY-SA 4.0 Andrey Upadyshev (image) and\\nWikipedia, List of commercial nuclear reactors (data)'\n",
    "copyright_font_size = 10"
   ]
  },
  {
   "cell_type": "code",
   "execution_count": null,
   "metadata": {},
   "outputs": [],
   "source": [
    "input_df = orig_input_df[orig_input_df['Begin building'].notna() & orig_input_df['Begin building'] <= max_year].reset_index(drop=True)\n",
    "input_df.loc[input_df['Commercial operation'] > max_year, 'Commercial operation'] = None\n",
    "input_df.loc[input_df['Closed'] > max_year, 'Closed'] = None\n",
    "\n",
    "input_df['SubRegion'] = input_df['Country'].map(lambda x: country_subregions[country_mapping.get(x, x)])\n",
    "input_df['Region'] = input_df['Country'].map(lambda x: country_regions[country_mapping.get(x, x)])\n",
    "input_df['Operated closed'] = input_df['Closed'].where(input_df['Commercial operation'].notna(), None)"
   ]
  },
  {
   "cell_type": "code",
   "execution_count": null,
   "metadata": {},
   "outputs": [],
   "source": [
    "def format_years_ticks(ax):\n",
    "    for label in ax.get_xticklabels():\n",
    "        if label.get_text() in ('1957', '1979', '1986', '2011'):\n",
    "            label.set_color('red')\n",
    "\n",
    "\n",
    "def format_number_plants_ticks(ax, ymin, ymax):\n",
    "    def fmt(val, pos):\n",
    "        return int(abs(val))\n",
    "    ax.yaxis.set_major_formatter(fmt)\n",
    "    ax.set_ylim(-ymin, ymax)"
   ]
  },
  {
   "cell_type": "markdown",
   "metadata": {},
   "source": [
    "# World stats"
   ]
  },
  {
   "cell_type": "code",
   "execution_count": null,
   "metadata": {},
   "outputs": [],
   "source": [
    "num_building_started = input_df.groupby(['Begin building'])['Begin building'].count()\n",
    "num_connected = input_df.groupby(['Commercial operation'])['Commercial operation'].count()\n",
    "num_closed = input_df.groupby(['Closed'])['Closed'].count()\n",
    "num_operated_closed = input_df.groupby(['Operated closed'])['Operated closed'].count()\n",
    "\n",
    "max_building_started = num_building_started.max()\n",
    "max_num_closed = num_closed.max()\n",
    "ymax = (max_building_started + 4) // 5 * 5\n",
    "ymin = (max_num_closed + 4) // 5 * 5\n",
    "\n",
    "combined = pd.concat([\n",
    "        num_building_started,\n",
    "        num_connected,\n",
    "        num_closed,\n",
    "        num_operated_closed,\n",
    "    ], axis=1)\n",
    "\n",
    "combined = combined.reindex(years, fill_value=0)\n",
    "\n",
    "combined['Commercial operation tot'] = combined['Commercial operation'].fillna(0).cumsum()\n",
    "combined['Operated closed tot'] = combined['Operated closed'].fillna(0).cumsum()\n",
    "combined['In operation'] = combined['Commercial operation tot'] - combined['Operated closed tot']\n",
    "\n",
    "fig, ax = plt.subplots(2, 1, figsize=(11, 10))\n",
    "\n",
    "ax1, ax2 = ax\n",
    "\n",
    "combined['Begin building'].plot.bar(ax=ax1, label='Construction started')\n",
    "(-combined['Closed']).plot.bar(ax=ax1, color='red', label='Closed')\n",
    "\n",
    "ax1.set_title('World')\n",
    "ax1.set_xlabel(None)\n",
    "format_years_ticks(ax1)\n",
    "format_number_plants_ticks(ax1, ymin, ymax)\n",
    "ax1.text(0, -ymin, copyright_text, fontsize=copyright_font_size, verticalalignment='bottom')\n",
    "ax1.legend()\n",
    "\n",
    "combined['In operation'].plot.bar(ax=ax2, label='Number in operation')\n",
    "combined['Commercial operation'].plot.bar(ax=ax2, color='black', label='Operation started')\n",
    "format_years_ticks(ax2)\n",
    "#ax2.text(0, ax2.get_ylim()[1], copyright_text, fontsize=copyright_font_size, verticalalignment='top')\n",
    "ax2.legend()\n",
    "\n",
    "fig.tight_layout()"
   ]
  },
  {
   "cell_type": "markdown",
   "metadata": {},
   "source": [
    "# Region stats"
   ]
  },
  {
   "cell_type": "code",
   "execution_count": null,
   "metadata": {},
   "outputs": [],
   "source": [
    "total_constructed_by_region = input_df.groupby(['Region'])[['Begin building', 'Commercial operation', 'Closed']].count().reset_index().sort_values('Begin building', ascending=False).reset_index(drop=True)\n",
    "total_constructed_by_region"
   ]
  },
  {
   "cell_type": "code",
   "execution_count": null,
   "metadata": {},
   "outputs": [],
   "source": [
    "num_building_started = input_df.groupby(['Region', 'Begin building'])['Begin building'].count()\n",
    "num_connected = input_df.groupby(['Region', 'Commercial operation'])['Commercial operation'].count()\n",
    "num_closed = input_df.groupby(['Region', 'Closed'])['Closed'].count()\n",
    "num_operated_closed = input_df.groupby(['Region', 'Operated closed'])['Operated closed'].count()\n",
    "\n",
    "#top_regions = total_constructed_by_region[total_constructed_by_region['Begin building'] > 10]['Region'].to_list()\n",
    "top_regions = total_constructed_by_region['Region'].to_list()\n",
    "\n",
    "regions = sorted(c for c in input_df['Region'].unique() if c in num_building_started)\n",
    "\n",
    "max_building_started = num_building_started.max()\n",
    "max_num_closed = num_closed.max()\n",
    "ymax = (max_building_started + 4) // 5 * 5\n",
    "ymin = (max_num_closed + 4) // 5 * 5\n",
    "tot_ymax = 250  # TODO: calculate from data\n",
    "\n",
    "\n",
    "for c in top_regions:\n",
    "    combined = pd.concat([\n",
    "        num_building_started[c],\n",
    "        num_connected[c] if c in num_connected else pd.DataFrame(columns=['Commercial operation']),\n",
    "        num_closed[c] if c in num_closed else pd.DataFrame(columns=['Closed']),\n",
    "        num_operated_closed[c] if c in num_operated_closed else pd.DataFrame(columns=['Operated closed']),\n",
    "    ], axis=1)\n",
    "    \n",
    "    combined = combined.reindex(years, fill_value=0)\n",
    "\n",
    "    combined['Commercial operation tot'] = combined['Commercial operation'].fillna(0).cumsum()\n",
    "    combined['Operated closed tot'] = combined['Operated closed'].fillna(0).cumsum()\n",
    "    combined['In operation'] = combined['Commercial operation tot'] - combined['Operated closed tot']\n",
    "\n",
    "    fig, ax = plt.subplots(2, 1, figsize=(11, 10))\n",
    "\n",
    "    ax1, ax2 = ax\n",
    "\n",
    "    combined['Begin building'].plot.bar(ax=ax1, label='Construction started')\n",
    "    (-combined['Closed']).plot.bar(ax=ax1, color='red', label='Closed')\n",
    "\n",
    "    ax1.set_title(f'{c} (UN M49)')\n",
    "    ax1.set_xlabel(None)\n",
    "    format_years_ticks(ax1)\n",
    "    format_number_plants_ticks(ax1, ymin, ymax)\n",
    "    ax1.text(0, -ymin, copyright_text, fontsize=copyright_font_size, verticalalignment='bottom')\n",
    "    ax1.legend()\n",
    "\n",
    "    combined['In operation'].plot.bar(ax=ax2, label='Number in operation')\n",
    "    combined['Commercial operation'].plot.bar(ax=ax2, color='black', label='Operation started')\n",
    "    format_years_ticks(ax2)\n",
    "    ax2.set_ylim(0, tot_ymax)\n",
    "    #ax2.text(0, ax2.get_ylim()[1], copyright_text, fontsize=copyright_font_size, verticalalignment='top')\n",
    "    ax2.legend()\n",
    "\n",
    "\n",
    "    fig.tight_layout()"
   ]
  },
  {
   "cell_type": "markdown",
   "metadata": {},
   "source": [
    "# Subregion stats"
   ]
  },
  {
   "cell_type": "code",
   "execution_count": null,
   "metadata": {},
   "outputs": [],
   "source": [
    "total_constructed_by_subregion = input_df.groupby(['SubRegion'])[['Begin building', 'Commercial operation', 'Closed']].count().reset_index().sort_values('Begin building', ascending=False).reset_index(drop=True)\n",
    "total_constructed_by_subregion"
   ]
  },
  {
   "cell_type": "code",
   "execution_count": null,
   "metadata": {},
   "outputs": [],
   "source": [
    "num_building_started = input_df.groupby(['SubRegion', 'Begin building'])['Begin building'].count()\n",
    "num_connected = input_df.groupby(['SubRegion', 'Commercial operation'])['Commercial operation'].count()\n",
    "num_closed = input_df.groupby(['SubRegion', 'Closed'])['Closed'].count()\n",
    "num_operated_closed = input_df.groupby(['SubRegion', 'Operated closed'])['Operated closed'].count()\n",
    "\n",
    "sub_regions = sorted(c for c in input_df['SubRegion'].unique() if c in num_building_started)\n",
    "#top_regions = total_constructed_by_subregion[total_constructed_by_subregion['Begin building'] > 10]['SubRegion'].to_list()\n",
    "top_regions = total_constructed_by_subregion['SubRegion'].to_list()\n",
    "\n",
    "max_building_started = num_building_started.max()\n",
    "max_num_closed = num_closed.max()\n",
    "ymax = (max_building_started + 4) // 5 * 5\n",
    "ymin = (max_num_closed + 4) // 5 * 5\n",
    "tot_ymax = 130  # TODO: calculate from data\n",
    "\n",
    "\n",
    "for c in top_regions:\n",
    "    combined = pd.concat([\n",
    "        num_building_started[c],\n",
    "        num_connected[c] if c in num_connected else pd.DataFrame(columns=['Commercial operation']),\n",
    "        num_closed[c] if c in num_closed else pd.DataFrame(columns=['Closed']),\n",
    "        num_operated_closed[c] if c in num_operated_closed else pd.DataFrame(columns=['Operated closed']),\n",
    "    ], axis=1)\n",
    "    \n",
    "    combined = combined.reindex(years, fill_value=0)\n",
    "\n",
    "    combined['Commercial operation tot'] = combined['Commercial operation'].fillna(0).cumsum()\n",
    "    combined['Operated closed tot'] = combined['Operated closed'].fillna(0).cumsum()\n",
    "    combined['In operation'] = combined['Commercial operation tot'] - combined['Operated closed tot']\n",
    "\n",
    "    fig, ax = plt.subplots(2, 1, figsize=(11, 10))\n",
    "\n",
    "    ax1, ax2 = ax\n",
    "\n",
    "    combined['Begin building'].plot.bar(ax=ax1, label='Construction started')\n",
    "    (-combined['Closed']).plot.bar(ax=ax1, color='red', label='Closed')\n",
    "\n",
    "    ax1.set_title(f'{c} (UN M49)')\n",
    "    ax1.set_xlabel(None)\n",
    "    format_years_ticks(ax1)\n",
    "    format_number_plants_ticks(ax1, ymin, ymax)\n",
    "    ax1.text(0, -ymin, copyright_text, fontsize=copyright_font_size, verticalalignment='bottom')\n",
    "    ax1.legend()\n",
    "\n",
    "    combined['In operation'].plot.bar(ax=ax2, label='Number in operation')\n",
    "    combined['Commercial operation'].plot.bar(ax=ax2, color='black', label='Operation started')\n",
    "    format_years_ticks(ax2)\n",
    "    ax2.set_ylim(0, tot_ymax)\n",
    "    #ax2.text(0, ax2.get_ylim()[1], copyright_text, fontsize=copyright_font_size, verticalalignment='top')\n",
    "    ax2.legend()\n",
    "\n",
    "\n",
    "    fig.tight_layout()"
   ]
  },
  {
   "cell_type": "markdown",
   "metadata": {},
   "source": [
    "# Country stats"
   ]
  },
  {
   "cell_type": "code",
   "execution_count": null,
   "metadata": {},
   "outputs": [],
   "source": [
    "total_constructed = input_df.groupby(['Country'])[['Begin building', 'Commercial operation', 'Closed']].count().reset_index().sort_values('Begin building', ascending=False).reset_index(drop=True)\n",
    "total_constructed"
   ]
  },
  {
   "cell_type": "code",
   "execution_count": null,
   "metadata": {},
   "outputs": [],
   "source": [
    "num_building_started = input_df.groupby(['Country', 'Begin building'])['Begin building'].count()\n",
    "num_connected = input_df.groupby(['Country', 'Commercial operation'])['Commercial operation'].count()\n",
    "num_closed = input_df.groupby(['Country', 'Closed'])['Closed'].count()\n",
    "num_operated_closed = input_df.groupby(['Country', 'Operated closed'])['Operated closed'].count()\n",
    "\n",
    "countries = sorted(c for c in input_df['Country'].unique() if c in num_building_started)\n",
    "#top_countries = total_constructed[total_constructed['Begin building'] >= 10]['Country'].to_list()\n",
    "top_countries = total_constructed['Country'].to_list()\n",
    "\n",
    "max_building_started = num_building_started.max()\n",
    "max_num_closed = num_closed.max()\n",
    "ymax = (max_building_started + 4) // 5 * 5\n",
    "ymin = (max_num_closed + 4) // 5 * 5\n",
    "tot_ymax = 110  # TODO: calculate from data\n",
    "\n",
    "\n",
    "for c in top_countries:\n",
    "    combined = pd.concat([\n",
    "        num_building_started[c],\n",
    "        num_connected[c] if c in num_connected else pd.DataFrame(columns=['Commercial operation']),\n",
    "        num_closed[c] if c in num_closed else pd.DataFrame(columns=['Closed']),\n",
    "        num_operated_closed[c] if c in num_operated_closed else pd.DataFrame(columns=['Operated closed']),\n",
    "    ], axis=1)\n",
    "    \n",
    "    combined = combined.reindex(years, fill_value=0)\n",
    "\n",
    "    combined['Commercial operation tot'] = combined['Commercial operation'].fillna(0).cumsum()\n",
    "    combined['Operated closed tot'] = combined['Operated closed'].fillna(0).cumsum()\n",
    "    combined['In operation'] = combined['Commercial operation tot'] - combined['Operated closed tot']\n",
    "\n",
    "    fig, ax = plt.subplots(2, 1, figsize=(11, 10))\n",
    "\n",
    "    ax1, ax2 = ax\n",
    "\n",
    "    combined['Begin building'].plot.bar(ax=ax1, label='Construction started')\n",
    "    (-combined['Closed']).plot.bar(ax=ax1, color='red', label='Closed')\n",
    "\n",
    "    ax1.set_title(c)\n",
    "    ax1.set_xlabel(None)\n",
    "    format_years_ticks(ax1)\n",
    "    format_number_plants_ticks(ax1, ymin, ymax)\n",
    "    ax1.text(0, -ymin, copyright_text, fontsize=copyright_font_size, verticalalignment='bottom')\n",
    "    ax1.legend()\n",
    "\n",
    "    combined['In operation'].plot.bar(ax=ax2, label='Number in operation')\n",
    "    combined['Commercial operation'].plot.bar(ax=ax2, color='black', label='Operation started')\n",
    "    format_years_ticks(ax2)\n",
    "    ax2.set_ylim(0, tot_ymax)\n",
    "    #ax2.text(0, ax2.get_ylim()[1], copyright_text, fontsize=copyright_font_size, verticalalignment='top')\n",
    "    ax2.legend()\n",
    "\n",
    "    fig.tight_layout()"
   ]
  },
  {
   "cell_type": "markdown",
   "metadata": {},
   "source": [
    "# Never opened reactors"
   ]
  },
  {
   "cell_type": "code",
   "execution_count": null,
   "metadata": {},
   "outputs": [],
   "source": [
    "# Never opened\n",
    "never_opened_df = input_df[input_df['Commercial operation'].isna() & input_df['Begin building'].notna() & input_df['Closed'].notna()].sort_values('Closed')\n",
    "\n",
    "num_building_started = never_opened_df.groupby(['Begin building'])['Begin building'].count()\n",
    "num_closed = never_opened_df.groupby(['Closed'])['Closed'].count()\n",
    "\n",
    "combined = pd.concat([\n",
    "        num_building_started,\n",
    "        num_closed,\n",
    "    ], axis=1)\n",
    "\n",
    "combined = combined.reindex(years, fill_value=0)\n",
    "\n",
    "fig, ax = plt.subplots(figsize=(11, 5))\n",
    "\n",
    "combined['Begin building'].plot.bar(ax=ax, label='Construction started')\n",
    "(-combined['Closed']).plot.bar(ax=ax, color='red', label='Closed')\n",
    "\n",
    "ax.set_title('Never operated reactors')\n",
    "ax.set_xlabel(None)\n",
    "format_years_ticks(ax)\n",
    "ax.yaxis.set_major_formatter(lambda val, pos: int(val))\n",
    "ax.text(0, ax.get_ylim()[0], copyright_text, fontsize=copyright_font_size, verticalalignment='bottom')\n",
    "ax.legend()\n",
    "\n",
    "fig.tight_layout()"
   ]
  },
  {
   "cell_type": "code",
   "execution_count": null,
   "metadata": {},
   "outputs": [],
   "source": [
    "never_opened_df.groupby(['Country', 'Closed'])['Closed'].count().sort_values(ascending=False)"
   ]
  },
  {
   "cell_type": "code",
   "execution_count": null,
   "metadata": {},
   "outputs": [],
   "source": [
    "never_opened_df.groupby(['Country', 'Begin building'])['Begin building'].count().sort_values(ascending=False)"
   ]
  }
 ],
 "metadata": {
  "kernelspec": {
   "display_name": "Python 3",
   "language": "python",
   "name": "python3"
  },
  "language_info": {
   "codemirror_mode": {
    "name": "ipython",
    "version": 3
   },
   "file_extension": ".py",
   "mimetype": "text/x-python",
   "name": "python",
   "nbconvert_exporter": "python",
   "pygments_lexer": "ipython3",
   "version": "3.12.1"
  }
 },
 "nbformat": 4,
 "nbformat_minor": 2
}
